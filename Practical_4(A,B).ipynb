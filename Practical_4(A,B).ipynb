{
 "cells": [
  {
   "attachments": {},
   "cell_type": "markdown",
   "metadata": {},
   "source": [
    "# Practical 4\n",
    "## Part 1: \n",
    "Generate 61 points for sin(x). Use this dataset to train two layer neural networks using\n",
    "gradient descent learning algorithm. Draw two curves with different colours, for target and\n",
    "output (y) of the trained neural network."
   ]
  },
  {
   "cell_type": "code",
   "execution_count": 4,
   "metadata": {},
   "outputs": [],
   "source": [
    "import numpy as np\n",
    "import matplotlib.pyplot as plt\n",
    "import pandas as pd\n",
    "import keras.datasets.mnist as mnist\n",
    "from keras.utils import np_utils"
   ]
  },
  {
   "cell_type": "code",
   "execution_count": 5,
   "metadata": {},
   "outputs": [],
   "source": [
    "# creating the base layer\n",
    "\n",
    "class Layer:\n",
    "    def __init__(self):\n",
    "        self.input = None\n",
    "        self.output = None\n",
    "\n",
    "    def forward(self, input):\n",
    "        pass\n",
    "\n",
    "    def backward(self, output_gradient, learning_rate):\n",
    "        pass"
   ]
  },
  {
   "cell_type": "code",
   "execution_count": 6,
   "metadata": {},
   "outputs": [],
   "source": [
    "# creating the Dense layer\n",
    "\n",
    "import numpy as np\n",
    "\n",
    "class Layer_Dense(Layer):\n",
    "    def __init__(self, input_size, output_size):\n",
    "        self.weights = np.random.randn(output_size,input_size)\n",
    "        self.biases = np.random.randn(output_size,1)\n",
    "        \n",
    "\n",
    "    def forward(self, input):\n",
    "        self.input = input\n",
    "        return np.dot(self.weights, self.input ) + self.biases\n",
    "\n",
    "    def backward(self, output_gradient, learning_rate):\n",
    "        weights_gradient = np.dot(output_gradient,self.input.T )\n",
    "        input_gradient = np.dot(self.weights.T, output_gradient)\n",
    "        self.weights -= learning_rate * weights_gradient\n",
    "        self.biases -=learning_rate * output_gradient\n",
    "        return input_gradient"
   ]
  },
  {
   "cell_type": "code",
   "execution_count": 7,
   "metadata": {},
   "outputs": [],
   "source": [
    "# creating the activation layer\n",
    "\n",
    "class Activation(Layer):\n",
    "    def __init__(self, activation, activation_prime):\n",
    "        self.activation = activation\n",
    "        self.activation_prime = activation_prime\n",
    "\n",
    "    def forward(self, input):\n",
    "        self.input = input\n",
    "        return self.activation(self.input)\n",
    "\n",
    "    def backward(self, output_gradient, learning_rate):\n",
    "        return np.multiply(output_gradient, self.activation_prime(self.input))"
   ]
  },
  {
   "cell_type": "code",
   "execution_count": 8,
   "metadata": {},
   "outputs": [],
   "source": [
    "# creating the activation functions\n",
    "\n",
    "# Linear function\n",
    "class Linear(Activation):\n",
    "    def __init__(self):\n",
    "        def linear(x):\n",
    "            return x\n",
    "        \n",
    "        def linear_prime(x):\n",
    "            return 1\n",
    "        \n",
    "        super().__init__(linear, linear_prime)\n",
    "\n",
    "# Tanh function\n",
    "class Tanh(Activation):\n",
    "    def __init__(self):\n",
    "        def tanh(x):\n",
    "            return np.tanh(x)\n",
    "        \n",
    "        def tanh_prime(x):\n",
    "            return 1 - np.tanh(x)**2\n",
    "        \n",
    "        super().__init__(tanh, tanh_prime)\n",
    "\n",
    "\n",
    "# Sigmoid function\n",
    "class Sigmoid(Activation):\n",
    "    def __init__(self):\n",
    "        def sigmoid(x):\n",
    "            return 1/(1+np.exp(-x))\n",
    "        \n",
    "        def sigmoid_prime(x):\n",
    "            return sigmoid(x)*(1-sigmoid(x))\n",
    "        \n",
    "        super().__init__(sigmoid, sigmoid_prime)"
   ]
  },
  {
   "cell_type": "code",
   "execution_count": 9,
   "metadata": {},
   "outputs": [],
   "source": [
    "# creating the loss function\n",
    "\n",
    "def mse(y_true, y_pred):\n",
    "    return np.mean(np.power(y_true - y_pred, 2))\n",
    "\n",
    "# creating the loss function derivative\n",
    "\n",
    "def mse_prime(y_true, y_pred):\n",
    "    return 2 * (y_pred - y_true) / np.size(y_true)"
   ]
  },
  {
   "cell_type": "code",
   "execution_count": 30,
   "metadata": {},
   "outputs": [],
   "source": [
    "# Training the network\n",
    "def train(network, loss, loss_prime,x_train, y_train, epochs=10, learning_rate=0.1, verbose=True):\n",
    "    for e in range (epochs):\n",
    "        error = 0\n",
    "        for x,y in zip(x_train, y_train):\n",
    "            output = predict(network, x)\n",
    "            error += loss(y, output)\n",
    "            output_gradient = loss_prime(y, output)\n",
    "            for layer in reversed(network):\n",
    "                output_gradient = layer.backward(output_gradient, learning_rate)\n",
    "\n",
    "        error  /=len(x_train)\n",
    "\n",
    "        if verbose:\n",
    "            # print only once in 1000 epoch\n",
    "            if e % 1000 == 0:\n",
    "                print(f\"Epoch: {e}, Error: {error}\")\n",
    "           \n",
    "\n",
    "\n",
    "\n",
    "# Testing the network\n",
    "def predict(network, input):\n",
    "    output = input\n",
    "    for layer in network:\n",
    "        output = layer.forward(output)\n",
    "    return output\n",
    "\n",
    "# visualizing the network\n",
    "def visualize(input , target , predicted):\n",
    "    plt.scatter(input, predicted, \n",
    "            linewidths = 2,\n",
    "            marker =\"*\",\n",
    "            edgecolor =\"black\",\n",
    "            s = 50)\n",
    " \n",
    "    plt.plot(input, target,c='red', linewidth = 2)\n",
    "     \n",
    "    plt.xlabel(\"X\")\n",
    "    plt.ylabel(\"Predicted and Actual Output\")\n",
    "    plt.legend([\"Predicted Output\", \"Actual Output\"])\n",
    "    plt.show()"
   ]
  },
  {
   "cell_type": "code",
   "execution_count": 31,
   "metadata": {},
   "outputs": [
    {
     "name": "stdout",
     "output_type": "stream",
     "text": [
      "Epoch: 0, Error: 2.0782737304606864\n",
      "Epoch: 1000, Error: 0.01495883428387625\n",
      "Epoch: 2000, Error: 0.004493493667589283\n",
      "Epoch: 3000, Error: 0.0014445203267379166\n",
      "Epoch: 4000, Error: 0.001261343054362468\n",
      "Epoch: 5000, Error: 0.0010846255802303808\n",
      "Epoch: 6000, Error: 0.000936524528940877\n",
      "Epoch: 7000, Error: 0.0008268631253502414\n",
      "Epoch: 8000, Error: 0.000751774103205051\n",
      "Epoch: 9000, Error: 0.0007022200278781874\n"
     ]
    }
   ],
   "source": [
    "\n",
    "# creating the neural network\n",
    "\n",
    "X = np.linspace(-3,3,61)\n",
    "Y = np.sin (X)\n",
    "\n",
    "network = [ \n",
    "    Layer_Dense(1, 10),\n",
    "    Tanh(),\n",
    "    Layer_Dense(10, 1),\n",
    "    Linear()\n",
    "]\n",
    "\n",
    "epochs = 10000\n",
    "learning_rate = 0.1\n",
    "verbose = True\n",
    "\n",
    "train(network, mse, mse_prime, X, Y, epochs, learning_rate)\n"
   ]
  },
  {
   "cell_type": "code",
   "execution_count": 32,
   "metadata": {},
   "outputs": [
    {
     "name": "stdout",
     "output_type": "stream",
     "text": [
      "Input: -3.000, Predicted: -0.214, Target: -0.141\n",
      "Input: -2.900, Predicted: -0.270, Target: -0.239\n",
      "Input: -2.800, Predicted: -0.338, Target: -0.335\n",
      "Input: -2.700, Predicted: -0.417, Target: -0.427\n",
      "Input: -2.600, Predicted: -0.505, Target: -0.516\n",
      "Input: -2.500, Predicted: -0.595, Target: -0.598\n",
      "Input: -2.400, Predicted: -0.682, Target: -0.675\n",
      "Input: -2.300, Predicted: -0.761, Target: -0.746\n",
      "Input: -2.200, Predicted: -0.828, Target: -0.808\n",
      "Input: -2.100, Predicted: -0.883, Target: -0.863\n",
      "Input: -2.000, Predicted: -0.924, Target: -0.909\n",
      "Input: -1.900, Predicted: -0.955, Target: -0.946\n",
      "Input: -1.800, Predicted: -0.975, Target: -0.974\n",
      "Input: -1.700, Predicted: -0.987, Target: -0.992\n",
      "Input: -1.600, Predicted: -0.991, Target: -1.000\n",
      "Input: -1.500, Predicted: -0.987, Target: -0.997\n",
      "Input: -1.400, Predicted: -0.977, Target: -0.985\n",
      "Input: -1.300, Predicted: -0.958, Target: -0.964\n",
      "Input: -1.200, Predicted: -0.930, Target: -0.932\n",
      "Input: -1.100, Predicted: -0.893, Target: -0.891\n",
      "Input: -1.000, Predicted: -0.846, Target: -0.841\n",
      "Input: -0.900, Predicted: -0.789, Target: -0.783\n",
      "Input: -0.800, Predicted: -0.721, Target: -0.717\n",
      "Input: -0.700, Predicted: -0.646, Target: -0.644\n",
      "Input: -0.600, Predicted: -0.563, Target: -0.565\n",
      "Input: -0.500, Predicted: -0.476, Target: -0.479\n",
      "Input: -0.400, Predicted: -0.385, Target: -0.389\n",
      "Input: -0.300, Predicted: -0.293, Target: -0.296\n",
      "Input: -0.200, Predicted: -0.198, Target: -0.199\n",
      "Input: -0.100, Predicted: -0.102, Target: -0.100\n",
      "Input: 0.000, Predicted: -0.003, Target: 0.000\n",
      "Input: 0.100, Predicted: 0.097, Target: 0.100\n",
      "Input: 0.200, Predicted: 0.198, Target: 0.199\n",
      "Input: 0.300, Predicted: 0.297, Target: 0.296\n",
      "Input: 0.400, Predicted: 0.392, Target: 0.389\n",
      "Input: 0.500, Predicted: 0.482, Target: 0.479\n",
      "Input: 0.600, Predicted: 0.566, Target: 0.565\n",
      "Input: 0.700, Predicted: 0.643, Target: 0.644\n",
      "Input: 0.800, Predicted: 0.715, Target: 0.717\n",
      "Input: 0.900, Predicted: 0.780, Target: 0.783\n",
      "Input: 1.000, Predicted: 0.840, Target: 0.841\n",
      "Input: 1.100, Predicted: 0.891, Target: 0.891\n",
      "Input: 1.200, Predicted: 0.934, Target: 0.932\n",
      "Input: 1.300, Predicted: 0.966, Target: 0.964\n",
      "Input: 1.400, Predicted: 0.989, Target: 0.985\n",
      "Input: 1.500, Predicted: 1.000, Target: 0.997\n",
      "Input: 1.600, Predicted: 1.001, Target: 1.000\n",
      "Input: 1.700, Predicted: 0.991, Target: 0.992\n",
      "Input: 1.800, Predicted: 0.972, Target: 0.974\n",
      "Input: 1.900, Predicted: 0.943, Target: 0.946\n",
      "Input: 2.000, Predicted: 0.906, Target: 0.909\n",
      "Input: 2.100, Predicted: 0.860, Target: 0.863\n",
      "Input: 2.200, Predicted: 0.807, Target: 0.808\n",
      "Input: 2.300, Predicted: 0.745, Target: 0.746\n",
      "Input: 2.400, Predicted: 0.677, Target: 0.675\n",
      "Input: 2.500, Predicted: 0.601, Target: 0.598\n",
      "Input: 2.600, Predicted: 0.519, Target: 0.516\n",
      "Input: 2.700, Predicted: 0.431, Target: 0.427\n",
      "Input: 2.800, Predicted: 0.338, Target: 0.335\n",
      "Input: 2.900, Predicted: 0.242, Target: 0.239\n",
      "Input: 3.000, Predicted: 0.142, Target: 0.141\n"
     ]
    }
   ],
   "source": [
    "predicted_arr = []\n",
    "for x,y in zip(X,Y):\n",
    "    output = predict(network, x)\n",
    "    predicted_arr.append(output)\n",
    "    print(\"Input: %.3f, Predicted: %.3f, Target: %.3f\" % (x, output, y))\n"
   ]
  },
  {
   "cell_type": "code",
   "execution_count": 13,
   "metadata": {},
   "outputs": [
    {
     "data": {
      "image/png": "[encoded data removed]",
      "text/plain": [
       "<Figure size 640x480 with 1 Axes>"
      ]
     },
     "metadata": {},
     "output_type": "display_data"
    }
   ],
   "source": [
    "visualize(X, Y, predicted_arr)"
   ]
  },
  {
   "attachments": {},
   "cell_type": "markdown",
   "metadata": {},
   "source": [
    "# B - MNIST Classification with a ANN"
   ]
  },
  {
   "attachments": {},
   "cell_type": "markdown",
   "metadata": {},
   "source": [
    "### Creating the function to train and predict"
   ]
  },
  {
   "cell_type": "code",
   "execution_count": 42,
   "metadata": {},
   "outputs": [],
   "source": [
    "def predict(network, input):\n",
    "    output = input\n",
    "    for layer in network:\n",
    "        output = layer.forward(output)\n",
    "    return output\n",
    "\n",
    "def train2(network, loss, loss_prime,x_train, y_train, epochs=10, learning_rate=0.1):\n",
    "    for e in range (epochs):\n",
    "        error = 0\n",
    "        for x,y in zip(x_train, y_train):\n",
    "            output = predict(network, x)\n",
    "            error += loss(y, output)\n",
    "            output_gradient = loss_prime(y, output)\n",
    "            for layer in reversed(network):\n",
    "                output_gradient = layer.backward(output_gradient, learning_rate)\n",
    "\n",
    "        error  /=len(x_train)\n",
    "\n",
    "        if verbose:\n",
    "            # print only once in 10 epoch\n",
    "            if e % 10 == 0:\n",
    "                print(f\"Epoch: {e}, Error: {error}\")\n",
    "     "
   ]
  },
  {
   "cell_type": "code",
   "execution_count": 43,
   "metadata": {},
   "outputs": [],
   "source": [
    "def preprocess_data (x,y,limit):\n",
    "    x = x.reshape(x.shape[0], 28*28, 1)\n",
    "    x = x.astype('float32')/255\n",
    "\n",
    "    y = np_utils.to_categorical(y, 10)\n",
    "    y  = y.reshape(y.shape[0], 10, 1)\n",
    "\n",
    "    x_train = x[:limit]\n",
    "    y_train = y[:limit]\n",
    "\n",
    "    return x_train, y_train"
   ]
  },
  {
   "cell_type": "code",
   "execution_count": 44,
   "metadata": {},
   "outputs": [],
   "source": [
    "# loading the data\n",
    "(x_train, y_train), (x_test, y_test) = mnist.load_data()\n",
    "x_train, y_train = preprocess_data(x_train, y_train, 5000)\n",
    "x_test, y_test = preprocess_data(x_test, y_test, 20)"
   ]
  },
  {
   "attachments": {},
   "cell_type": "markdown",
   "metadata": {},
   "source": [
    "### Creating the Neural Network"
   ]
  },
  {
   "cell_type": "code",
   "execution_count": 45,
   "metadata": {},
   "outputs": [
    {
     "name": "stdout",
     "output_type": "stream",
     "text": [
      "Epoch: 0, Error: 0.11751767804562543\n",
      "Epoch: 10, Error: 0.0469624124104349\n",
      "Epoch: 20, Error: 0.03464834543466927\n",
      "Epoch: 30, Error: 0.029712870255441157\n",
      "Epoch: 40, Error: 0.024277121553593597\n",
      "Epoch: 50, Error: 0.02119239300584351\n",
      "Epoch: 60, Error: 0.01915696579617546\n",
      "Epoch: 70, Error: 0.017911994255754574\n",
      "Epoch: 80, Error: 0.01697553909406824\n",
      "Epoch: 90, Error: 0.016240596123270713\n"
     ]
    }
   ],
   "source": [
    "# creating the network\n",
    "# dense (28*28,100)\n",
    "# activation (tanh)\n",
    "# dense (100,10)\n",
    "# activation (sigmoid)\n",
    "network = [\n",
    "    Layer_Dense(28*28, 40),\n",
    "    Tanh(),\n",
    "    Layer_Dense(40, 10),\n",
    "    Sigmoid()\n",
    "]\n",
    "\n",
    "# training the network\n",
    "train2(network, mse, mse_prime, x_train, y_train, epochs=100, learning_rate=0.1)   "
   ]
  },
  {
   "attachments": {},
   "cell_type": "markdown",
   "metadata": {},
   "source": [
    "### Testing the Neural Network"
   ]
  },
  {
   "cell_type": "code",
   "execution_count": 46,
   "metadata": {},
   "outputs": [
    {
     "name": "stdout",
     "output_type": "stream",
     "text": [
      "Original: 7, Predicted: 7\n",
      "Original: 2, Predicted: 2\n",
      "Original: 1, Predicted: 1\n",
      "Original: 0, Predicted: 0\n",
      "Original: 4, Predicted: 4\n",
      "Original: 1, Predicted: 1\n",
      "Original: 4, Predicted: 4\n",
      "Original: 9, Predicted: 9\n",
      "Original: 5, Predicted: 2\n",
      "Original: 9, Predicted: 9\n",
      "Original: 0, Predicted: 0\n",
      "Original: 6, Predicted: 6\n",
      "Original: 9, Predicted: 9\n",
      "Original: 0, Predicted: 0\n",
      "Original: 1, Predicted: 1\n",
      "Original: 5, Predicted: 3\n",
      "Original: 9, Predicted: 9\n",
      "Original: 7, Predicted: 7\n",
      "Original: 3, Predicted: 7\n",
      "Original: 4, Predicted: 4\n"
     ]
    }
   ],
   "source": [
    "# testing the network\n",
    "for x,y in zip(x_test, y_test):\n",
    "    output = predict(network, x)\n",
    "    print(\"Original: %d, Predicted: %d\" % (np.argmax(y), np.argmax(output)))\n"
   ]
  },
  {
   "cell_type": "code",
   "execution_count": 20,
   "metadata": {},
   "outputs": [
    {
     "name": "stdout",
     "output_type": "stream",
     "text": [
      "Accuracy:  80.0 %\n"
     ]
    }
   ],
   "source": [
    "# calculating the accuracy\n",
    "correct = 0\n",
    "for x,y in zip(x_test, y_test):\n",
    "    output = predict(network, x)\n",
    "    if np.argmax(y) == np.argmax(output):\n",
    "        correct += 1\n",
    "\n",
    "# printing the accuracy in percentage\n",
    "Accuracy = correct/len(x_test) * 100\n",
    "\n",
    "print(\"Accuracy: \", Accuracy, \"%\")\n"
   ]
  }
 ],
 "metadata": {
  "kernelspec": {
   "display_name": "Python 3",
   "language": "python",
   "name": "python3"
  },
  "language_info": {
   "codemirror_mode": {
    "name": "ipython",
    "version": 3
   },
   "file_extension": ".py",
   "mimetype": "text/x-python",
   "name": "python",
   "nbconvert_exporter": "python",
   "pygments_lexer": "ipython3",
   "version": "3.10.1"
  },
  "orig_nbformat": 4
 },
 "nbformat": 4,
 "nbformat_minor": 2
}
