{
 "cells": [
  {
   "attachments": {},
   "cell_type": "markdown",
   "metadata": {},
   "source": [
    "# Practical 2-A"
   ]
  },
  {
   "cell_type": "code",
   "execution_count": 14,
   "metadata": {},
   "outputs": [],
   "source": [
    "import numpy as np\n"
   ]
  },
  {
   "cell_type": "code",
   "execution_count": 15,
   "metadata": {},
   "outputs": [],
   "source": [
    "input_array = np.array([[0.1],[0.2],[0.3],[0.4],[0.5],[0.6],[0.7]])\n",
    "output_array = np.array([[1.2],[1.4],[1.55],[1.75],[2.01],[2.2],[2.35]])"
   ]
  },
  {
   "cell_type": "code",
   "execution_count": 16,
   "metadata": {},
   "outputs": [],
   "source": [
    "def neuron_training(x,target):\n",
    "    #initializing the weight\n",
    "    w=np.random.randn(1,2)\n",
    "    eta=0.1\n",
    "    epoch=0\n",
    "    Etotal=1\n",
    "    Erequired=0.1\n",
    "    while(Etotal>Erequired and epoch<100):\n",
    "        Etotal=0\n",
    "        epoch=epoch+1\n",
    "        for i in range(len(x)):\n",
    "\n",
    "            #forward pass\n",
    "            input=x[i]\n",
    "            d=target[i]\n",
    "            new_input=np.append(input,1)\n",
    "            y=np.dot(w,new_input)\n",
    "\n",
    "            #Gradient descent\n",
    "            error = 0.5*(d-y)**2\n",
    "            Etotal=Etotal+error\n",
    "            # print(\"Error: \",Etotal,\"\\n\")\n",
    "            delta_w=eta*(d-y)*input\n",
    "            w=w+delta_w\n",
    "\n",
    "        Etotal=Etotal/7\n",
    "       \n",
    "    return w,epoch\n"
   ]
  },
  {
   "cell_type": "code",
   "execution_count": 17,
   "metadata": {},
   "outputs": [
    {
     "name": "stdout",
     "output_type": "stream",
     "text": [
      "Final weight:  [[1.92679703 0.72199736]]\n",
      "Epoch =  4\n",
      "Problem solved with one neuron\n"
     ]
    }
   ],
   "source": [
    "#Training the neuron\n",
    "output=neuron_training(input_array,output_array)\n",
    "weight=output[0]\n",
    "epoch=output[1]\n",
    "print(\"Final weight: \",weight)\n",
    "if epoch == 100:\n",
    "    print(\"Epoch limit reached\")\n",
    "    print (\"Problem cannot be solved with one neuron\")\n",
    "        \n",
    "else:\n",
    "    print(\"Epoch = \",epoch)\n",
    "    print (\"Problem solved with one neuron\") \n",
    "\n"
   ]
  },
  {
   "cell_type": "code",
   "execution_count": 18,
   "metadata": {},
   "outputs": [
    {
     "data": {
      "image/png": "[encoded data removed]",
      "text/plain": [
       "<Figure size 640x480 with 1 Axes>"
      ]
     },
     "metadata": {},
     "output_type": "display_data"
    }
   ],
   "source": [
    "#Plotting the graph\n",
    "import matplotlib.pyplot as plt\n",
    "\n",
    "# Predicted output\n",
    "x = np.linspace(0, 1, 100)\n",
    "y = weight[0][0]*x + weight[0][1]\n",
    "plt.plot(x, y, '-r', label='Predicted output')\n",
    "\n",
    "# Actual output\n",
    "plt.plot(input_array, output_array, 'ob', label='Actual output')\n",
    "\n",
    "plt.xlabel('Input')\n",
    "plt.ylabel('Output')\n",
    "plt.legend(loc='upper left')\n",
    "\n",
    "\n",
    "plt.show()"
   ]
  },
  {
   "cell_type": "code",
   "execution_count": 19,
   "metadata": {},
   "outputs": [
    {
     "name": "stdout",
     "output_type": "stream",
     "text": [
      "Output for input  0.8  is  [2.26343499]\n"
     ]
    }
   ],
   "source": [
    "#predicting the output\n",
    "def neuron_predict(x,w):\n",
    "    input=np.append(x,1)\n",
    "    y=np.dot(w,input)\n",
    "    return y\n",
    "\n",
    "\n",
    "#predicting the output\n",
    "input=0.8\n",
    "output=neuron_predict(input,weight)\n",
    "print(\"Output for input \",input,\" is \",output)"
   ]
  },
  {
   "attachments": {},
   "cell_type": "markdown",
   "metadata": {},
   "source": [
    "# 2-B"
   ]
  },
  {
   "cell_type": "code",
   "execution_count": 20,
   "metadata": {},
   "outputs": [],
   "source": [
    "#plotting the graph\n",
    "\n"
   ]
  },
  {
   "cell_type": "code",
   "execution_count": 21,
   "metadata": {},
   "outputs": [],
   "source": [
    "#Linear Regression\n",
    "internal_exam= np.array (([15],[23],[18],[23],[24],[22],[22]))\n",
    "final_exam= np.array (([49],[63],[58],[60],[58],[61],[60]))"
   ]
  },
  {
   "cell_type": "code",
   "execution_count": 22,
   "metadata": {},
   "outputs": [
    {
     "name": "stdout",
     "output_type": "stream",
     "text": [
      "Final weight:  [[nan nan]]\n",
      "Epoch =  28\n",
      "Problem solved with one neuron\n"
     ]
    },
    {
     "name": "stderr",
     "output_type": "stream",
     "text": [
      "C:\\Users\\HP\\AppData\\Local\\Temp\\ipykernel_15064\\4200006243.py:20: RuntimeWarning: overflow encountered in square\n",
      "  error = 0.5*(d-y)**2\n",
      "C:\\Users\\HP\\AppData\\Local\\Temp\\ipykernel_15064\\4200006243.py:24: RuntimeWarning: invalid value encountered in add\n",
      "  w=w+delta_w\n"
     ]
    }
   ],
   "source": [
    "#Training the neuron\n",
    "output=neuron_training(internal_exam,final_exam)\n",
    "weight=output[0]\n",
    "epoch=output[1]\n",
    "print(\"Final weight: \",weight)\n",
    "if epoch == 100:\n",
    "    print(\"Epoch limit reached\")\n",
    "    print (\"Problem cannot be solved with one neuron\")\n",
    "        \n",
    "else:\n",
    "    print(\"Epoch = \",epoch)\n",
    "    print (\"Problem solved with one neuron\") "
   ]
  }
 ],
 "metadata": {
  "kernelspec": {
   "display_name": "Python 3",
   "language": "python",
   "name": "python3"
  },
  "language_info": {
   "codemirror_mode": {
    "name": "ipython",
    "version": 3
   },
   "file_extension": ".py",
   "mimetype": "text/x-python",
   "name": "python",
   "nbconvert_exporter": "python",
   "pygments_lexer": "ipython3",
   "version": "3.10.1"
  },
  "orig_nbformat": 4
 },
 "nbformat": 4,
 "nbformat_minor": 2
}
