{
 "cells": [
  {
   "attachments": {},
   "cell_type": "markdown",
   "metadata": {},
   "source": [
    "# Neural Network from Scratch\n",
    "# Practical 3A"
   ]
  },
  {
   "cell_type": "code",
   "execution_count": 34,
   "metadata": {},
   "outputs": [],
   "source": [
    "# creating the base layer\n",
    "\n",
    "class Layer:\n",
    "    def __init__(self):\n",
    "        self.input = None\n",
    "        self.output = None\n",
    "\n",
    "    def forward(self, input):\n",
    "        pass\n",
    "\n",
    "    def backward(self, output_gradient, learning_rate):\n",
    "        pass"
   ]
  },
  {
   "cell_type": "code",
   "execution_count": 35,
   "metadata": {},
   "outputs": [],
   "source": [
    "# creating the Dense layer\n",
    "\n",
    "import numpy as np\n",
    "\n",
    "class Layer_Dense(Layer):\n",
    "    def __init__(self, input_size, output_size):\n",
    "        self.weights = np.random.randn(output_size,input_size)\n",
    "        self.biases = np.random.randn(output_size,1)\n",
    "        print (\"Weights:\",self.weights)\n",
    "\n",
    "    def forward(self, input):\n",
    "        self.input = input\n",
    "        return np.dot(self.weights, self.input ) + self.biases\n",
    "\n",
    "    def backward(self, output_gradient, learning_rate):\n",
    "        weights_gradient = np.dot(output_gradient,self.input.T )\n",
    "        input_gradient = np.dot(self.weights.T, output_gradient)\n",
    "        self.weights -= learning_rate * weights_gradient\n",
    "        self.biases -=learning_rate * output_gradient\n",
    "        return input_gradient"
   ]
  },
  {
   "cell_type": "code",
   "execution_count": 36,
   "metadata": {},
   "outputs": [],
   "source": [
    "# creating the activation layer\n",
    "\n",
    "class Activation(Layer):\n",
    "    def __init__(self, activation, activation_prime):\n",
    "        self.activation = activation\n",
    "        self.activation_prime = activation_prime\n",
    "\n",
    "    def forward(self, input):\n",
    "        self.input = input\n",
    "        return self.activation(self.input)\n",
    "\n",
    "    def backward(self, output_gradient, learning_rate):\n",
    "        return np.multiply(output_gradient, self.activation_prime(self.input))"
   ]
  },
  {
   "cell_type": "code",
   "execution_count": 37,
   "metadata": {},
   "outputs": [],
   "source": [
    "# creating the activation functions\n",
    "\n",
    "# Tanh function\n",
    "class Tanh(Activation):\n",
    "    def __init__(self):\n",
    "\n",
    "        def tanh(x):\n",
    "            return np.tanh(x)\n",
    "        \n",
    "        def tanh_prime(x):\n",
    "            return 1 - np.tanh(x)**2\n",
    "        super().__init__(tanh, tanh_prime)\n",
    "\n",
    "class Linear(Activation):\n",
    "    def __init__(self):\n",
    "        def linear(x):\n",
    "            return x\n",
    "        \n",
    "        def linear_prime(x):\n",
    "            return 1\n",
    "        \n",
    "        super().__init__(linear, linear_prime)\n",
    "\n"
   ]
  },
  {
   "cell_type": "code",
   "execution_count": 38,
   "metadata": {},
   "outputs": [],
   "source": [
    "# creating the loss function\n",
    "def mse(y_true, y_pred):\n",
    "    return np.mean(np.power(y_true - y_pred, 2))\n",
    "\n",
    "# creating the loss function derivative\n",
    "def mse_prime(y_true, y_pred):\n",
    "    return 2 * (y_pred - y_true) / np.size(y_true)"
   ]
  },
  {
   "cell_type": "code",
   "execution_count": 39,
   "metadata": {},
   "outputs": [
    {
     "name": "stdout",
     "output_type": "stream",
     "text": [
      "Weights: [[0.1927659]]\n",
      "Epoch 0 Error 0.8221219976222407\n",
      "Epoch 1000 Error 0.0057094022539284275\n",
      "Epoch 2000 Error 0.0057094022539284275\n",
      "Epoch 3000 Error 0.0057094022539284275\n",
      "Epoch 4000 Error 0.0057094022539284275\n",
      "Epoch 5000 Error 0.0057094022539284275\n",
      "Epoch 6000 Error 0.0057094022539284275\n",
      "Epoch 7000 Error 0.0057094022539284275\n",
      "Epoch 8000 Error 0.0057094022539284275\n",
      "Epoch 9000 Error 0.0057094022539284275\n",
      "-------------------------------------------\n",
      "Final error:  0.0008156288934183468\n"
     ]
    }
   ],
   "source": [
    "\n",
    "# creating the neural network\n",
    "\n",
    "X = np.array([[0.1],[0.2],[0.3],[0.4],[0.5],[0.6],[0.7]])\n",
    "Y = np.array([[1.2],[1.4],[1.55],[1.75],[2.01],[2.2],[2.35]])\n",
    "\n",
    "network = [\n",
    "    Layer_Dense(1, 1),\n",
    "    Linear()\n",
    "]\n",
    "\n",
    "epochs = 10000\n",
    "learning_rate = 0.1\n",
    "\n",
    "for epoch in range(epochs):\n",
    "    error = 0\n",
    "    for x, y in zip(X, Y):\n",
    "        # Forward pass\n",
    "        output = x\n",
    "        for layer in network:\n",
    "            output = layer.forward(output)\n",
    "\n",
    "        error += mse(y, output)\n",
    "        # Backward pass\n",
    "        output_gradient = mse_prime(y, output)\n",
    "        for layer in reversed(network):\n",
    "            output_gradient = layer.backward(output_gradient, learning_rate)\n",
    "\n",
    "    if epoch % 1000 == 0:\n",
    "        print(\"Epoch\",epoch,\"Error\",error)\n",
    "\n",
    "    \n",
    "error/= len (X)\n",
    "print (\"-------------------------------------------\")\n",
    "print(\"Final error: \",error)"
   ]
  },
  {
   "cell_type": "code",
   "execution_count": 40,
   "metadata": {},
   "outputs": [
    {
     "name": "stdout",
     "output_type": "stream",
     "text": [
      "Input: [0.1] Output: [[1.19031205]] Actual: [1.2]\n",
      "Input: [0.2] Output: [[1.386833]] Actual: [1.4]\n",
      "Input: [0.3] Output: [[1.58335395]] Actual: [1.55]\n",
      "Input: [0.4] Output: [[1.7798749]] Actual: [1.75]\n",
      "Input: [0.5] Output: [[1.97639585]] Actual: [2.01]\n",
      "Input: [0.6] Output: [[2.1729168]] Actual: [2.2]\n",
      "Input: [0.7] Output: [[2.36943775]] Actual: [2.35]\n",
      "-------------------------------------------\n",
      "Predicted: [1.19031205 1.386833   1.58335395 1.7798749  1.97639585 2.1729168\n",
      " 2.36943775]\n"
     ]
    }
   ],
   "source": [
    "# testing the neural network\n",
    "\n",
    "input_arr = np.array([[0.1],[0.2],[0.3],[0.4],[0.5],[0.6],[0.7]])\n",
    "output_arr = np.array([[1.2],[1.4],[1.55],[1.75],[2.01],[2.2],[2.35]])\n",
    "\n",
    "predicted_arr = np.array([])\n",
    "\n",
    "for x, y in zip(input_arr, output_arr):\n",
    "    output = x\n",
    "    for layer in network:\n",
    "        output = layer.forward(output)\n",
    "    predicted_arr = np.append(predicted_arr,output)\n",
    "    print(\"Input:\",x,\"Output:\",output,\"Actual:\",y)\n",
    "print (\"-------------------------------------------\")\n",
    "print (\"Predicted:\",predicted_arr)\n",
    "   \n"
   ]
  },
  {
   "cell_type": "code",
   "execution_count": 41,
   "metadata": {},
   "outputs": [
    {
     "data": {
      "image/png": "[encoded data removed]",
      "text/plain": [
       "<Figure size 640x480 with 1 Axes>"
      ]
     },
     "metadata": {},
     "output_type": "display_data"
    }
   ],
   "source": [
    "import matplotlib.pyplot as plt\n",
    "import numpy as np\n",
    "\n",
    "\n",
    "# Actual data\n",
    "plt.scatter(input_arr, output_arr, color='green' )\n",
    "# Predicted data\n",
    "plt.plot(input_arr, predicted_arr, color='red', linewidth=2, label='Predicted')\n",
    "# labels\n",
    "plt.xlabel('Input')\n",
    "plt.ylabel('Output')\n",
    "# title\n",
    "plt.title('Actual vs Predicted')\n",
    "# show legend\n",
    "plt.legend(\"\")\n",
    "plt.show()"
   ]
  }
 ],
 "metadata": {
  "kernelspec": {
   "display_name": "Python 3",
   "language": "python",
   "name": "python3"
  },
  "language_info": {
   "codemirror_mode": {
    "name": "ipython",
    "version": 3
   },
   "file_extension": ".py",
   "mimetype": "text/x-python",
   "name": "python",
   "nbconvert_exporter": "python",
   "pygments_lexer": "ipython3",
   "version": "3.10.1"
  },
  "orig_nbformat": 4
 },
 "nbformat": 4,
 "nbformat_minor": 2
}
