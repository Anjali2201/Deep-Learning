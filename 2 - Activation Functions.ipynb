{
 "cells": [
  {
   "attachments": {},
   "cell_type": "markdown",
   "metadata": {},
   "source": [
    "## Training of neuron with various activation functions."
   ]
  },
  {
   "attachments": {},
   "cell_type": "markdown",
   "metadata": {},
   "source": [
    "Part 1: A college professor believes that if the grade for internal examination is high in a class, the grade for external examination will also be high. A random sample of 7 students in that class was selected, and the data is given below:\n",
    "\n",
    "          Input:  0.1  | 0.2 | 0.3 | 0.4 | 0.5 | 0.6 | 0.7\n",
    "\n",
    "          Target: 1.2 | 1.4 | 1.55 | 1.75 | 2.01 | 2.2 | 2.35\n",
    "\n",
    "Write a python program for linear regression using a single neuron (with proper activation function) on the above dataset, and find the coefficients w1 and b. Predict the external marks if internal marks are 0.15. Draw the scatter plot between Internal Exam and External Exam .Draw a straight line with red line using above w1, w2 and b."
   ]
  },
  {
   "cell_type": "code",
   "execution_count": 3,
   "metadata": {},
   "outputs": [],
   "source": [
    " # Training a neuron to learn \n",
    "import numpy as np\n",
    "def neuron_training(x,target):\n",
    "    #initializing the weight\n",
    "    w=np.random.randn(1,2)\n",
    "    eta=0.1\n",
    "    epoch=0\n",
    "    Etotal=1\n",
    "    Erequired=0.1\n",
    "    while(Etotal>Erequired and epoch<100):\n",
    "        Etotal=0\n",
    "        epoch=epoch+1\n",
    "        for i in range(len(x)):\n",
    "\n",
    "            #forward pass\n",
    "            input=x[i]\n",
    "            d=target[i]\n",
    "            new_input=np.append(input,1)\n",
    "            y=np.dot(w,new_input)\n",
    "\n",
    "            #Gradient descent\n",
    "            error = 0.5*(d-y)**2\n",
    "            Etotal=Etotal+error\n",
    "            # print(\"Error: \",Etotal,\"\\n\")\n",
    "            delta_w=eta*(d-y)*input\n",
    "            w=w+delta_w\n",
    "        Etotal=Etotal/7\n",
    "        print(\"Error: \",Etotal,\"\\n\")\n",
    "        \n",
    "\n",
    "    return w,epoch"
   ]
  },
  {
   "cell_type": "code",
   "execution_count": 4,
   "metadata": {},
   "outputs": [
    {
     "name": "stdout",
     "output_type": "stream",
     "text": [
      "Error:  [0.72099977] \n",
      "\n",
      "Error:  [0.28869293] \n",
      "\n",
      "Error:  [0.11581014] \n",
      "\n",
      "Error:  [0.0483952] \n",
      "\n",
      "Final weight:  [[1.07777397 1.19181212]]\n",
      "Epoch =  4\n",
      "Problem solved with one neuron\n"
     ]
    }
   ],
   "source": [
    "# Defining the input and output\n",
    "input_array = np.array([[0.1],[0.2],[0.3],[0.4],[0.5],[0.6],[0.7]])\n",
    "output_array = np.array([[1.2],[1.4],[1.55],[1.75],[2.01],[2.2],[2.35]])\n",
    "output=neuron_training(input_array,output_array)\n",
    "weight=output[0]\n",
    "epoch=output[1]\n",
    "print(\"Final weight: \",weight)\n",
    "if epoch == 100:\n",
    "    print(\"Epoch limit reached\")\n",
    "    print (\"Problem cannot be solved with one neuron\")\n",
    "        \n",
    "else:\n",
    "    print(\"Epoch = \",epoch)\n",
    "    print (\"Problem solved with one neuron\") \n",
    "\n"
   ]
  },
  {
   "cell_type": "code",
   "execution_count": 5,
   "metadata": {},
   "outputs": [
    {
     "data": {
      "image/png": "[encoded data removed]",
      "text/plain": [
       "<Figure size 640x480 with 1 Axes>"
      ]
     },
     "metadata": {},
     "output_type": "display_data"
    }
   ],
   "source": [
    "#Plotting the graph\n",
    "import matplotlib.pyplot as plt\n",
    "\n",
    "# Predicted output\n",
    "x = np.linspace(0, 1, 100)\n",
    "y = weight[0][0]*x + weight[0][1]\n",
    "plt.plot(x, y, '-r', label='Predicted output')\n",
    "\n",
    "# Actual output\n",
    "plt.plot(input_array, output_array, 'ob', label='Actual output')\n",
    "\n",
    "plt.xlabel('Input')\n",
    "plt.ylabel('Output')\n",
    "plt.legend(loc='upper left')\n",
    "\n",
    "\n",
    "plt.show()"
   ]
  },
  {
   "cell_type": "code",
   "execution_count": 6,
   "metadata": {},
   "outputs": [
    {
     "name": "stdout",
     "output_type": "stream",
     "text": [
      "Output for input  0.8  is  [2.0540313]\n"
     ]
    }
   ],
   "source": [
    "#predicting the output\n",
    "def neuron_predict(x,w):\n",
    "    input=np.append(x,1)\n",
    "    y=np.dot(w,input)\n",
    "    return y\n",
    "\n",
    "#predicting the output\n",
    "input=0.8\n",
    "output=neuron_predict(input,weight)\n",
    "print(\"Output for input \",input,\" is \",output)"
   ]
  },
  {
   "attachments": {},
   "cell_type": "markdown",
   "metadata": {},
   "source": [
    "### Part B Generate 51 points for \n",
    "                  \n",
    "                  t = 11 + exp(-3x) , where x ∈ [-2,3].\n",
    "\n",
    "Use this dataset to train sigmoid neuron using gradient descent learning algorithm. Draw two curves with different colours, for target and output (y) of the trained neuron."
   ]
  },
  {
   "cell_type": "code",
   "execution_count": 8,
   "metadata": {},
   "outputs": [
    {
     "name": "stdout",
     "output_type": "stream",
     "text": [
      "Epoch 0: Loss = 0.5861\n",
      "Epoch 100: Loss = 0.0169\n",
      "Epoch 200: Loss = 0.0116\n",
      "Epoch 300: Loss = 0.0105\n",
      "Epoch 400: Loss = 0.0099\n",
      "Epoch 500: Loss = 0.0096\n",
      "Epoch 600: Loss = 0.0094\n",
      "Epoch 700: Loss = 0.0092\n",
      "Epoch 800: Loss = 0.0091\n",
      "Epoch 900: Loss = 0.0089\n"
     ]
    },
    {
     "data": {
      "image/png": "[encoded data removed]",
      "text/plain": [
       "<Figure size 640x480 with 1 Axes>"
      ]
     },
     "metadata": {},
     "output_type": "display_data"
    },
    {
     "name": "stdout",
     "output_type": "stream",
     "text": [
      "[0.         0.01010101 0.02020202 0.03030303 0.04040404 0.05050505\n",
      " 0.06060606 0.07070707 0.08080808 0.09090909 0.1010101  0.11111111\n",
      " 0.12121212 0.13131313 0.14141414 0.15151515 0.16161616 0.17171717\n",
      " 0.18181818 0.19191919 0.2020202  0.21212121 0.22222222 0.23232323\n",
      " 0.24242424 0.25252525 0.26262626 0.27272727 0.28282828 0.29292929\n",
      " 0.3030303  0.31313131 0.32323232 0.33333333 0.34343434 0.35353535\n",
      " 0.36363636 0.37373737 0.38383838 0.39393939 0.4040404  0.41414141\n",
      " 0.42424242 0.43434343 0.44444444 0.45454545 0.46464646 0.47474747\n",
      " 0.48484848 0.49494949 0.50505051 0.51515152 0.52525253 0.53535354\n",
      " 0.54545455 0.55555556 0.56565657 0.57575758 0.58585859 0.5959596\n",
      " 0.60606061 0.61616162 0.62626263 0.63636364 0.64646465 0.65656566\n",
      " 0.66666667 0.67676768 0.68686869 0.6969697  0.70707071 0.71717172\n",
      " 0.72727273 0.73737374 0.74747475 0.75757576 0.76767677 0.77777778\n",
      " 0.78787879 0.7979798  0.80808081 0.81818182 0.82828283 0.83838384\n",
      " 0.84848485 0.85858586 0.86868687 0.87878788 0.88888889 0.8989899\n",
      " 0.90909091 0.91919192 0.92929293 0.93939394 0.94949495 0.95959596\n",
      " 0.96969697 0.97979798 0.98989899 1.        ]\n",
      "----------------------------------\n",
      "[0.5        0.57444252 0.64565631 0.7109495  0.76852478 0.81757448\n",
      " 0.85814894 0.89090318 0.9168273  0.93702664 0.95257413 0.96442881\n",
      " 0.97340301 0.98015969 0.98522597 0.98901306 0.99183743 0.9939402\n",
      " 0.99550373 0.99666519 0.99752738 0.99816706 0.99864148 0.99899323\n",
      " 0.99925397 0.99944722 0.99959043 0.99969655 0.99977518 0.99983344\n",
      " 0.99987661 0.99990858 0.99993228 0.99994983 0.99996283 0.99997246\n",
      " 0.9999796  0.99998489 0.9999888  0.99999171 0.99999386 0.99999545\n",
      " 0.99999663 0.9999975  0.99999815 0.99999863 0.99999898 0.99999925\n",
      " 0.99999944 0.99999959 0.99999969]\n"
     ]
    }
   ],
   "source": [
    "def generate_data(n):\n",
    "    x = np.linspace(0, 5, n)\n",
    "    y = 1 / (1 + np.exp(-3 * x))\n",
    "    return x, y\n",
    "def sigmoid(x):\n",
    "    return 1 / (1 + np.exp(-x))\n",
    "def sigmoid_prime(x):\n",
    "    return sigmoid(x) * (1 - sigmoid(x))\n",
    "def mse_loss(y_true, y_pred):\n",
    "    return np.mean((y_true - y_pred) ** 2)\n",
    "n = 51\n",
    "X, y = generate_data(n)\n",
    "w = np.random.randn()\n",
    "b = np.random.randn()\n",
    "learning_rate = 0.1\n",
    "epochs = 1000\n",
    "for epoch in range(epochs):\n",
    "    y_pred = sigmoid(w * X + b)\n",
    "    loss = mse_loss(y, y_pred)\n",
    "    delw = np.mean(X * (y_pred - y) * sigmoid_prime(w * X + b))\n",
    "    delb = np.mean((y_pred - y) * sigmoid_prime(w * X + b))\n",
    "    w = w - learning_rate * delw\n",
    "    b = b - learning_rate * delb\n",
    "    if epoch % 100 == 0:\n",
    "        print(\"Epoch {}: Loss = {:.4f}\".format(epoch, loss))\n",
    "plt.scatter(X, y, label=\"Target\")\n",
    "plt.plot(X, sigmoid(w * X + b), label=\"Sigmoid Neuron\")\n",
    "plt.legend()\n",
    "plt.show()"
   ]
  },
  {
   "cell_type": "code",
   "execution_count": 9,
   "metadata": {},
   "outputs": [
    {
     "name": "stdout",
     "output_type": "stream",
     "text": [
      "[0.         0.01010101 0.02020202 0.03030303 0.04040404 0.05050505\n",
      " 0.06060606 0.07070707 0.08080808 0.09090909 0.1010101  0.11111111\n",
      " 0.12121212 0.13131313 0.14141414 0.15151515 0.16161616 0.17171717\n",
      " 0.18181818 0.19191919 0.2020202  0.21212121 0.22222222 0.23232323\n",
      " 0.24242424 0.25252525 0.26262626 0.27272727 0.28282828 0.29292929\n",
      " 0.3030303  0.31313131 0.32323232 0.33333333 0.34343434 0.35353535\n",
      " 0.36363636 0.37373737 0.38383838 0.39393939 0.4040404  0.41414141\n",
      " 0.42424242 0.43434343 0.44444444 0.45454545 0.46464646 0.47474747\n",
      " 0.48484848 0.49494949 0.50505051 0.51515152 0.52525253 0.53535354\n",
      " 0.54545455 0.55555556 0.56565657 0.57575758 0.58585859 0.5959596\n",
      " 0.60606061 0.61616162 0.62626263 0.63636364 0.64646465 0.65656566\n",
      " 0.66666667 0.67676768 0.68686869 0.6969697  0.70707071 0.71717172\n",
      " 0.72727273 0.73737374 0.74747475 0.75757576 0.76767677 0.77777778\n",
      " 0.78787879 0.7979798  0.80808081 0.81818182 0.82828283 0.83838384\n",
      " 0.84848485 0.85858586 0.86868687 0.87878788 0.88888889 0.8989899\n",
      " 0.90909091 0.91919192 0.92929293 0.93939394 0.94949495 0.95959596\n",
      " 0.96969697 0.97979798 0.98989899 1.        ]\n",
      "----------------------------------\n",
      "[0.5        0.57444252 0.64565631 0.7109495  0.76852478 0.81757448\n",
      " 0.85814894 0.89090318 0.9168273  0.93702664 0.95257413 0.96442881\n",
      " 0.97340301 0.98015969 0.98522597 0.98901306 0.99183743 0.9939402\n",
      " 0.99550373 0.99666519 0.99752738 0.99816706 0.99864148 0.99899323\n",
      " 0.99925397 0.99944722 0.99959043 0.99969655 0.99977518 0.99983344\n",
      " 0.99987661 0.99990858 0.99993228 0.99994983 0.99996283 0.99997246\n",
      " 0.9999796  0.99998489 0.9999888  0.99999171 0.99999386 0.99999545\n",
      " 0.99999663 0.9999975  0.99999815 0.99999863 0.99999898 0.99999925\n",
      " 0.99999944 0.99999959 0.99999969]\n"
     ]
    }
   ],
   "source": [
    "print(x)\n",
    "print(\"----------------------------------\")\n",
    "print(y)"
   ]
  }
 ],
 "metadata": {
  "kernelspec": {
   "display_name": "Python 3",
   "language": "python",
   "name": "python3"
  },
  "language_info": {
   "codemirror_mode": {
    "name": "ipython",
    "version": 3
   },
   "file_extension": ".py",
   "mimetype": "text/x-python",
   "name": "python",
   "nbconvert_exporter": "python",
   "pygments_lexer": "ipython3",
   "version": "3.10.1"
  },
  "orig_nbformat": 4
 },
 "nbformat": 4,
 "nbformat_minor": 2
}
