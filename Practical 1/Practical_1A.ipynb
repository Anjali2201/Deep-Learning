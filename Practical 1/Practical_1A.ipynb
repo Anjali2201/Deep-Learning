{
 "cells": [
  {
   "attachments": {},
   "cell_type": "markdown",
   "metadata": {},
   "source": [
    "# Perceptron Learning Algorithm"
   ]
  },
  {
   "attachments": {},
   "cell_type": "markdown",
   "metadata": {},
   "source": [
    "It is a model of a single neuron that can be used for two-class classification problems and provides the foundation for later developing much larger networks."
   ]
  },
  {
   "attachments": {},
   "cell_type": "markdown",
   "metadata": {},
   "source": [
    "<img src=\"./perceptron.webp\">"
   ]
  },
  {
   "cell_type": "code",
   "execution_count": 19,
   "metadata": {},
   "outputs": [],
   "source": [
    "import numpy as np\n",
    "\n",
    "def neuron_train(arr,target):\n",
    "\n",
    "    # Initialize weight randomly\n",
    "    w=np.random.rand(1,4)\n",
    "    print (\"Initial weight: \",w)\n",
    "    \n",
    "    c = 0.1\n",
    "    E_total = 1\n",
    "    epoch = 0\n",
    "\n",
    "\n",
    "    # Train the neuron\n",
    "    while (E_total > 0):\n",
    "        E_total = 0\n",
    "        epoch += 1\n",
    "\n",
    "        for i in range(len(arr)):\n",
    "            x = arr[i]\n",
    "            t = target[i]\n",
    "            net = np.dot(w, x)\n",
    "            y = np.sign(net)\n",
    "\n",
    "            E = 0.5 * (t - y) ** 2\n",
    "            E_total += E\n",
    "\n",
    "            delta_w = c * (t - y) * x\n",
    "\n",
    "            w += delta_w\n",
    "\n",
    "        \n",
    "\n",
    "    print (\"Final weight: \",w)\n",
    "    print (\"Epoch: \",epoch)\n",
    "    print (\"Error: \",E_total)\n",
    "\n",
    "    \n"
   ]
  },
  {
   "cell_type": "code",
   "execution_count": 20,
   "metadata": {},
   "outputs": [
    {
     "name": "stdout",
     "output_type": "stream",
     "text": [
      "Initial weight:  [[0.28197661 0.92199159 0.06186208 0.59261172]]\n",
      "Final weight:  [[ 0.48197661  0.32199159  0.26186208 -0.80738828]]\n",
      "Epoch:  4\n",
      "Error:  [0.]\n"
     ]
    }
   ],
   "source": [
    "arr= np.array(([-1,-1,-1,1],[-1,-1,1,1],[-1,1,-1,1],[-1,1,1,1],[1,-1,-1,1],[1,-1,1,1],[1,1,-1,1],[1,1,1,1]))\n",
    "target=(-1,-1,-1,-1,-1,-1,-1,1)\n",
    "neuron_train(arr,target)"
   ]
  },
  {
   "cell_type": "code",
   "execution_count": 21,
   "metadata": {},
   "outputs": [],
   "source": [
    "def neuron_training1(arr,target):\n",
    "    c=0.1\n",
    "    w=np.random.randn(1,arr.shape[1])\n",
    "    print(\"Initial Weights = \",w,\"\\n\")\n",
    "    E_total=1\n",
    "    epoch=0\n",
    "    while(E_total>0) :\n",
    "        E_total=0\n",
    "        epoch=epoch+1\n",
    "\n",
    "        # Forward Propagation\n",
    "        for i in range(len(arr)):\n",
    "            x=arr[i]\n",
    "            d=target[i]\n",
    "\n",
    "            # Calculate net\n",
    "            net=np.dot(w,x)\n",
    "\n",
    "            # Calculate output\n",
    "            y=np.sign(net)\n",
    "\n",
    "            # Calculate error\n",
    "            E=0.5*(d-y)**2\n",
    "\n",
    "            # Calculate total error\n",
    "            E_total=E_total+E\n",
    "            # print(\"E_total= \",E_total)\n",
    "\n",
    "\n",
    "            # Backward Propagation\n",
    "            del_w=c*(d-y)*x\n",
    "            w=w+del_w\n",
    "            # print(\"w= \",w)\n",
    "            # print(\"\\n\")\n",
    "    print(\"Final Weights = \",w)\n",
    "    print(\"epoch= \",epoch)"
   ]
  },
  {
   "cell_type": "code",
   "execution_count": 22,
   "metadata": {},
   "outputs": [
    {
     "name": "stdout",
     "output_type": "stream",
     "text": [
      "Initial Weights =  [[0.05872859 1.31160155 0.06651476]] \n",
      "\n",
      "Final Weights =  [[ 0.65872859  0.71160155 -0.53348524]]\n",
      "epoch=  4\n"
     ]
    }
   ],
   "source": [
    "arr=np.array(([-1,-1,1],[-1,1,1],[1,-1,1],[1,1,1]))\n",
    "target=(-1,-1,-1,1)\n",
    "neuron_training1(arr,target)"
   ]
  }
 ],
 "metadata": {
  "kernelspec": {
   "display_name": "Python 3",
   "language": "python",
   "name": "python3"
  },
  "language_info": {
   "codemirror_mode": {
    "name": "ipython",
    "version": 3
   },
   "file_extension": ".py",
   "mimetype": "text/x-python",
   "name": "python",
   "nbconvert_exporter": "python",
   "pygments_lexer": "ipython3",
   "version": "3.10.1"
  },
  "orig_nbformat": 4,
  "vscode": {
   "interpreter": {
    "hash": "a9cff5a362bc38ef45d817ae74b1af54d6a076e3d773891282bce078b815ba34"
   }
  }
 },
 "nbformat": 4,
 "nbformat_minor": 2
}
